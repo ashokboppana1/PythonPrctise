{
 "cells": [
  {
   "cell_type": "markdown",
   "id": "70b03bb0-2e73-4dbb-b23b-92b23eb67060",
   "metadata": {},
   "source": [
    "Basic Level:"
   ]
  },
  {
   "cell_type": "markdown",
   "id": "52bd5b62-0ce1-4674-859c-eaff8c546d74",
   "metadata": {},
   "source": [
    "1. Write a Python program to print the numbers from 1 to 10 using a `for` loop."
   ]
  },
  {
   "cell_type": "code",
   "execution_count": 1,
   "id": "b12baf60-ba8d-482d-826a-107ba361810d",
   "metadata": {},
   "outputs": [
    {
     "name": "stdout",
     "output_type": "stream",
     "text": [
      "1\n",
      "2\n",
      "3\n",
      "4\n",
      "5\n",
      "6\n",
      "7\n",
      "8\n",
      "9\n",
      "10\n"
     ]
    }
   ],
   "source": [
    "for i in range(1,11):\n",
    "    print(i)\n"
   ]
  },
  {
   "cell_type": "markdown",
   "id": "2c9bb5c4-3111-4ec2-a08e-36da502e1e1d",
   "metadata": {},
   "source": [
    "2. Create a program that calculates the sum of all numbers in a list using a `for` loop."
   ]
  },
  {
   "cell_type": "code",
   "execution_count": 6,
   "id": "27a01da3-6ff7-4ae4-b7a5-38bec515d33e",
   "metadata": {},
   "outputs": [
    {
     "name": "stdout",
     "output_type": "stream",
     "text": [
      "Sum of items in the list: 21\n"
     ]
    }
   ],
   "source": [
    "list=[1,2,3,4,5,6]\n",
    "count=0\n",
    "for i in list:\n",
    "    count+=i\n",
    "\n",
    "print(\"Sum of items in the list:\", count)  "
   ]
  },
  {
   "cell_type": "markdown",
   "id": "23109e1a-002f-416e-ad69-28c894499b34",
   "metadata": {},
   "source": [
    "3. Write a program to print the characters of a string in reverse order using a `for` loop."
   ]
  },
  {
   "cell_type": "code",
   "execution_count": 7,
   "id": "9d4bda0b-8bcf-42be-804c-61fc6a7ae3fa",
   "metadata": {},
   "outputs": [
    {
     "name": "stdout",
     "output_type": "stream",
     "text": [
      "reversed string is ecneics atad ot emoclew\n"
     ]
    }
   ],
   "source": [
    "str=\"welcome to data science\"\n",
    "rev_str=\"\"\n",
    "for char in reversed(str):\n",
    "    rev_str+=char\n",
    "print(\"reversed string is\",rev_str)    "
   ]
  },
  {
   "cell_type": "markdown",
   "id": "672dd01e-0afb-4e71-8df0-6e9f02ae223b",
   "metadata": {},
   "source": [
    "4. Develop a program that finds the factorial of a given number using a `for` loop."
   ]
  },
  {
   "cell_type": "code",
   "execution_count": 13,
   "id": "dae6ad43-fb18-4383-8718-b73e316a5b39",
   "metadata": {},
   "outputs": [
    {
     "name": "stdin",
     "output_type": "stream",
     "text": [
      "enter a no 3\n"
     ]
    },
    {
     "name": "stdout",
     "output_type": "stream",
     "text": [
      "Factorial of 3 is 6\n"
     ]
    }
   ],
   "source": [
    "n=int(input(\"enter a no\"))\n",
    "factorial = 1\n",
    "for i in range(1, n+1):\n",
    "    factorial *= i\n",
    "print(\"Factorial of\", n, \"is\", factorial)    \n",
    "    \n",
    "        \n",
    "\n",
    "  \n",
    "    "
   ]
  },
  {
   "cell_type": "markdown",
   "id": "e6768570-4ac6-4da3-97a0-85d102fd0ca0",
   "metadata": {},
   "source": [
    "5. Create a program to print the multiplication table of a given number using a `for` loop."
   ]
  },
  {
   "cell_type": "code",
   "execution_count": 15,
   "id": "011188eb-3218-4d6b-bab9-10ea680c38fe",
   "metadata": {},
   "outputs": [
    {
     "name": "stdin",
     "output_type": "stream",
     "text": [
      "Enter a number:  6\n",
      "Enter a range for multiplication:  10\n"
     ]
    },
    {
     "name": "stdout",
     "output_type": "stream",
     "text": [
      "Multiplication table for 6:\n",
      "6 x 1 = 6\n",
      "6 x 2 = 12\n",
      "6 x 3 = 18\n",
      "6 x 4 = 24\n",
      "6 x 5 = 30\n",
      "6 x 6 = 36\n",
      "6 x 7 = 42\n",
      "6 x 8 = 48\n",
      "6 x 9 = 54\n",
      "6 x 10 = 60\n"
     ]
    }
   ],
   "source": [
    "num = int(input(\"Enter a number: \"))\n",
    "num1 = int(input(\"Enter a range for multiplication: \"))\n",
    "print(f\"Multiplication table for {num}:\")\n",
    "\n",
    "for i in range(1, num1+1):\n",
    "    product = num * i\n",
    "    print(f\"{num} x {i} = {product}\")\n"
   ]
  },
  {
   "cell_type": "markdown",
   "id": "7d6e9c99-8a60-409e-8339-db10437df613",
   "metadata": {},
   "source": [
    "6. Write a program that counts the number of even and odd numbers in a list using a `for` loop."
   ]
  },
  {
   "cell_type": "code",
   "execution_count": 17,
   "id": "32b23ee8-77f9-47f9-9621-84c4481e8e3a",
   "metadata": {},
   "outputs": [
    {
     "name": "stdout",
     "output_type": "stream",
     "text": [
      "even count is5,odd count is 2\n"
     ]
    }
   ],
   "source": [
    "list1=[1,4,6,910,11,16,20]\n",
    "even_count=0\n",
    "odd_count=0\n",
    "for i in list1:\n",
    "    if i%2==0:\n",
    "        even_count+=1\n",
    "    else:\n",
    "        odd_count+=1\n",
    "print(f\"even count is{even_count},odd count is {odd_count}\")        \n",
    "        \n",
    "        \n",
    "        \n",
    "    \n"
   ]
  },
  {
   "cell_type": "markdown",
   "id": "68afa205-cd93-4474-b210-38cc8533030a",
   "metadata": {},
   "source": [
    "7. Develop a program that prints the squares of numbers from 1 to 5 using a `for` loop."
   ]
  },
  {
   "cell_type": "code",
   "execution_count": 19,
   "id": "2da814c7-5cee-41c0-8061-696b13bd8566",
   "metadata": {},
   "outputs": [
    {
     "name": "stdout",
     "output_type": "stream",
     "text": [
      "squre of 1 is 1\n",
      "squre of 2 is 4\n",
      "squre of 3 is 9\n",
      "squre of 4 is 16\n",
      "squre of 5 is 25\n"
     ]
    }
   ],
   "source": [
    "lst_squres=[1,2,3,4,5]\n",
    "for i in lst_squres:\n",
    "    squre=i**2\n",
    "    print(f\"squre of {i} is {squre}\")\n",
    "    "
   ]
  },
  {
   "cell_type": "markdown",
   "id": "faec1434-3a69-4d1d-bd9e-727a54f50680",
   "metadata": {},
   "source": [
    "8. Create a program to find the length of a string without using the `len()` function."
   ]
  },
  {
   "cell_type": "code",
   "execution_count": 24,
   "id": "47f9a9fb-2a51-41bc-8be3-cbe0ebc951b8",
   "metadata": {},
   "outputs": [
    {
     "name": "stdout",
     "output_type": "stream",
     "text": [
      "no of characters in the string welcometodatasciences are 21\n"
     ]
    }
   ],
   "source": [
    "input_str=\"welcome to data sciences\"\n",
    "input_str=input_str.replace(\" \",\"\")\n",
    "char_count=0\n",
    "for char in input_str:\n",
    "    char_count+=1\n",
    "print(f\"no of characters in the string {input_str} are {char_count}\")    \n",
    "    "
   ]
  },
  {
   "cell_type": "markdown",
   "id": "46fcd2a7-8812-467c-a576-d0c5e6b58514",
   "metadata": {},
   "source": [
    "9. Write a program that calculates the average of a list of numbers using a `for` loop."
   ]
  },
  {
   "cell_type": "code",
   "execution_count": 33,
   "id": "90afae7a-f274-4aec-8c6f-85453ac6a121",
   "metadata": {},
   "outputs": [
    {
     "name": "stdout",
     "output_type": "stream",
     "text": [
      "Average of the numbers: 3.5\n"
     ]
    }
   ],
   "source": [
    "numbers = [1, 2, 3, 4, 5,6]\n",
    "sum_of_numbers = 0\n",
    "count = 0\n",
    "for number in numbers:\n",
    "    sum_of_numbers += number\n",
    "    count += 1\n",
    "\n",
    "average = sum_of_numbers / count\n",
    "print(\"Average of the numbers:\", average)\n",
    "   "
   ]
  },
  {
   "cell_type": "markdown",
   "id": "a5121889-3ed8-46d5-8ecf-6d1bc6972bfd",
   "metadata": {},
   "source": [
    "10. Develop a program that prints the first `n` Fibonacci numbers using a `for` loop."
   ]
  },
  {
   "cell_type": "code",
   "execution_count": 37,
   "id": "89358791-4e6f-4fb1-950c-7c3913e02b7b",
   "metadata": {},
   "outputs": [
    {
     "name": "stdin",
     "output_type": "stream",
     "text": [
      "Enter the number of Fibonacci numbers to generate:  6\n"
     ]
    },
    {
     "name": "stdout",
     "output_type": "stream",
     "text": [
      "First 6 Fibonacci numbers:\n",
      "0 1 1 2 3 5 \n"
     ]
    }
   ],
   "source": [
    "\n",
    "n = int(input(\"Enter the number of Fibonacci numbers to generate: \"))\n",
    "fibonacci_a, fibonacci_b = 0, 1\n",
    "print(\"First\", n, \"Fibonacci numbers:\")\n",
    "for _ in range(n):\n",
    "    print(fibonacci_a, end=\" \")\n",
    "    fibonacci_a, fibonacci_b = fibonacci_b, fibonacci_a + fibonacci_b\n",
    "\n",
    "print()"
   ]
  },
  {
   "cell_type": "markdown",
   "id": "abc09422-f1ef-41e2-9fa1-a69286dccb71",
   "metadata": {},
   "source": [
    "11. Write a program to check if a given list contains any duplicates using a `for` loop."
   ]
  },
  {
   "cell_type": "code",
   "execution_count": 41,
   "id": "e389ce0c-95ad-499b-acee-ff29ed10bd1d",
   "metadata": {},
   "outputs": [
    {
     "name": "stdout",
     "output_type": "stream",
     "text": [
      "list has duplicate\n"
     ]
    }
   ],
   "source": [
    "lst=[1,3,4,6,7,8,8,8]\n",
    "unq_ele=set()\n",
    "has_duplicate=False\n",
    "for i in lst:\n",
    "    if i in unq_ele:\n",
    "        has_duplicate=True\n",
    "        break\n",
    "    else:\n",
    "        unq_ele.add(i)\n",
    "if(has_duplicate):\n",
    "    print(\"list has duplicate\")\n",
    "else:\n",
    "    print(\"list has no duplicates\")\n",
    "        \n"
   ]
  },
  {
   "cell_type": "markdown",
   "id": "3975eae5-3a27-4be4-95b7-43d5c511018a",
   "metadata": {},
   "source": [
    "12. Create a program that prints the prime numbers in a given range using a `for` loop."
   ]
  },
  {
   "cell_type": "code",
   "execution_count": 1,
   "id": "62ae76c3-8260-4372-8c4a-cff65b323553",
   "metadata": {},
   "outputs": [
    {
     "name": "stdin",
     "output_type": "stream",
     "text": [
      "Enter the lower bound of the range:  1\n",
      "Enter the upper bound of the range:  18\n"
     ]
    },
    {
     "name": "stdout",
     "output_type": "stream",
     "text": [
      "Prime numbers in the range 1 to 18 are:\n",
      "2 3 5 7 11 13 17 \n"
     ]
    }
   ],
   "source": [
    "lower_bound = int(input(\"Enter the lower bound of the range: \"))\n",
    "upper_bound = int(input(\"Enter the upper bound of the range: \"))\n",
    "\n",
    "prime_numbers = []\n",
    "\n",
    "for num in range(lower_bound, upper_bound + 1):\n",
    "    if num > 1:\n",
    "        is_prime = True\n",
    "        for i in range(2, int(num**0.5) + 1):\n",
    "            if num % i == 0:\n",
    "                is_prime = False\n",
    "                break\n",
    "        if is_prime:\n",
    "            prime_numbers.append(num)\n",
    "\n",
    "print(\"Prime numbers in the range\", lower_bound, \"to\", upper_bound, \"are:\")\n",
    "for prime in prime_numbers:\n",
    "    print(prime, end=\" \")\n",
    "print()\n"
   ]
  },
  {
   "cell_type": "markdown",
   "id": "a4a24615-4c7d-4867-bce0-0d2ffc102053",
   "metadata": {},
   "source": [
    "13. Develop a program that counts the number of vowels in a string using a `for` loop."
   ]
  },
  {
   "cell_type": "code",
   "execution_count": 2,
   "id": "8e7baf4f-3744-4e4e-ad54-4376791fe8a6",
   "metadata": {},
   "outputs": [
    {
     "name": "stdout",
     "output_type": "stream",
     "text": [
      "no of vowels in welcometodatasciences are 12\n"
     ]
    }
   ],
   "source": [
    "input_str=\"welcome to data sciences\"\n",
    "input_str=input_str.replace(\" \",\"\").lower()\n",
    "vowels=\"bcdfghjklmnpqrstvwxyz\"\n",
    "vowels_count=0\n",
    "for char in input_str:\n",
    "    if char in vowels:\n",
    "        vowels_count+=1\n",
    "print(f\"no of vowels in {input_str} are {vowels_count}\")        \n",
    "        \n",
    "        \n",
    "    \n",
    "    "
   ]
  },
  {
   "cell_type": "markdown",
   "id": "6343d788-4a15-49c2-9eea-ceebe7bee5df",
   "metadata": {},
   "source": [
    "14. Write a program to find the maximum element in a 2D list using a nested `for` loop."
   ]
  },
  {
   "cell_type": "code",
   "execution_count": 4,
   "id": "fbfdadfd-bd7f-4343-84e3-814a7b484e77",
   "metadata": {},
   "outputs": [
    {
     "name": "stdout",
     "output_type": "stream",
     "text": [
      "Maximum element in the 2D list:\n",
      "120\n"
     ]
    }
   ],
   "source": [
    "# Input: Create a 2D list (a list of lists)\n",
    "matrix = [\n",
    "    [100, 5, 7],\n",
    "    [3, 15, 2],\n",
    "    [8, 6, 120]\n",
    "]\n",
    "\n",
    "# Initialize a variable to store the maximum element\n",
    "max_element = float('-inf')\n",
    "\n",
    "# Use nested for loops to find the maximum element\n",
    "for row in matrix:\n",
    "    for element in row:\n",
    "        if element > max_element:\n",
    "            max_element = element\n",
    "\n",
    "# Print the maximum element\n",
    "print(\"Maximum element in the 2D list:\")\n",
    "print(max_element)\n"
   ]
  },
  {
   "cell_type": "markdown",
   "id": "777e5567-e365-43be-b4be-ee89d57ec309",
   "metadata": {},
   "source": [
    "15. Create a program that removes all occurrences of a specific element from a list using a `for` loop."
   ]
  },
  {
   "cell_type": "code",
   "execution_count": 10,
   "id": "35b2097b-81a6-4540-b8d9-8f5beb720334",
   "metadata": {},
   "outputs": [
    {
     "data": {
      "text/plain": [
       "[2, 3, 2, 3]"
      ]
     },
     "execution_count": 10,
     "metadata": {},
     "output_type": "execute_result"
    }
   ],
   "source": [
    "lst=[1,2,3,1,2,3]\n",
    "n=1\n",
    "lst2=[]\n",
    "for i in lst:\n",
    "    if i!=n:\n",
    "         lst2.append(i)      \n",
    "lst2        "
   ]
  },
  {
   "cell_type": "markdown",
   "id": "ae8c629b-8f65-4b4d-9b93-18a8844abc2f",
   "metadata": {},
   "source": [
    "16. Develop a program that generates a multiplication table for numbers from 1 to 5 using a nested `for` loop."
   ]
  },
  {
   "cell_type": "code",
   "execution_count": 12,
   "id": "59ec10cf-1d7f-4b03-8041-c0f2117b78c0",
   "metadata": {},
   "outputs": [
    {
     "name": "stdout",
     "output_type": "stream",
     "text": [
      "Multiplication table for 1:\n",
      "1 x 1 = 1\n",
      "1 x 2 = 2\n",
      "1 x 3 = 3\n",
      "1 x 4 = 4\n",
      "1 x 5 = 5\n",
      "1 x 6 = 6\n",
      "1 x 7 = 7\n",
      "1 x 8 = 8\n",
      "1 x 9 = 9\n",
      "1 x 10 = 10\n",
      "\n",
      "Multiplication table for 2:\n",
      "2 x 1 = 2\n",
      "2 x 2 = 4\n",
      "2 x 3 = 6\n",
      "2 x 4 = 8\n",
      "2 x 5 = 10\n",
      "2 x 6 = 12\n",
      "2 x 7 = 14\n",
      "2 x 8 = 16\n",
      "2 x 9 = 18\n",
      "2 x 10 = 20\n",
      "\n",
      "Multiplication table for 3:\n",
      "3 x 1 = 3\n",
      "3 x 2 = 6\n",
      "3 x 3 = 9\n",
      "3 x 4 = 12\n",
      "3 x 5 = 15\n",
      "3 x 6 = 18\n",
      "3 x 7 = 21\n",
      "3 x 8 = 24\n",
      "3 x 9 = 27\n",
      "3 x 10 = 30\n",
      "\n",
      "Multiplication table for 4:\n",
      "4 x 1 = 4\n",
      "4 x 2 = 8\n",
      "4 x 3 = 12\n",
      "4 x 4 = 16\n",
      "4 x 5 = 20\n",
      "4 x 6 = 24\n",
      "4 x 7 = 28\n",
      "4 x 8 = 32\n",
      "4 x 9 = 36\n",
      "4 x 10 = 40\n",
      "\n",
      "Multiplication table for 5:\n",
      "5 x 1 = 5\n",
      "5 x 2 = 10\n",
      "5 x 3 = 15\n",
      "5 x 4 = 20\n",
      "5 x 5 = 25\n",
      "5 x 6 = 30\n",
      "5 x 7 = 35\n",
      "5 x 8 = 40\n",
      "5 x 9 = 45\n",
      "5 x 10 = 50\n",
      "\n"
     ]
    }
   ],
   "source": [
    "# Generate a multiplication table for numbers from 1 to 5\n",
    "for i in range(1, 6):\n",
    "    print(f\"Multiplication table for {i}:\")\n",
    "\n",
    "    for j in range(1, 11):\n",
    "        product = i * j\n",
    "        print(f\"{i} x {j} = {product}\")\n",
    "\n",
    "    print()  # Print a newline for readability between tables\n"
   ]
  },
  {
   "cell_type": "markdown",
   "id": "d3c69002-b9ef-418f-8125-ca309c0e4ea1",
   "metadata": {},
   "source": [
    "17. Write a program that converts a list of Fahrenheit temperatures to Celsius using a `for` loop."
   ]
  },
  {
   "cell_type": "code",
   "execution_count": 14,
   "id": "6a16873f-5177-4364-92d7-d24a0787896c",
   "metadata": {},
   "outputs": [
    {
     "data": {
      "text/plain": [
       "[5.722222222222221, 51.922222222222224, 81.02222222222221]"
      ]
     },
     "execution_count": 14,
     "metadata": {},
     "output_type": "execute_result"
    }
   ],
   "source": [
    "lst_temp=[23.5,69.7,98.8]\n",
    "lst_celtemp=[]\n",
    "for temp in lst_temp:\n",
    "    cels=temp-32/1.8\n",
    "    lst_celtemp.append(cels)\n",
    "lst_celtemp    \n",
    "    \n",
    "    "
   ]
  },
  {
   "cell_type": "markdown",
   "id": "8de4f60a-4169-446b-8f48-b78b580e0010",
   "metadata": {},
   "source": [
    "18. Create a program to print the common elements from two lists using a `for` loop."
   ]
  },
  {
   "cell_type": "code",
   "execution_count": 16,
   "id": "f9e11fde-dac1-409e-812e-c4c853c1ecb7",
   "metadata": {},
   "outputs": [
    {
     "data": {
      "text/plain": [
       "[6]"
      ]
     },
     "execution_count": 16,
     "metadata": {},
     "output_type": "execute_result"
    }
   ],
   "source": [
    "lst1=[1,2,3,4,5,6]\n",
    "lst2=[11,12,13,14,15,6]\n",
    "lst3=[]\n",
    "for i in lst1:\n",
    "    if i in lst2:\n",
    "        lst3.append(i)\n",
    "lst3        \n",
    "        "
   ]
  },
  {
   "cell_type": "markdown",
   "id": "3f79d365-3f88-462e-85fa-29ae8bfc98c2",
   "metadata": {},
   "source": [
    "19. Develop a program that prints the pattern of right-angled triangles using a `for` loop. Use ‘*’ to draw the\n",
    "pattern"
   ]
  },
  {
   "cell_type": "code",
   "execution_count": 20,
   "id": "be1e7619-5f48-4554-9d76-c5f31cdf1cb7",
   "metadata": {},
   "outputs": [
    {
     "name": "stdout",
     "output_type": "stream",
     "text": [
      "* \n",
      "* *\n",
      "* * *\n",
      "* * * *\n",
      "* * * * *\n"
     ]
    }
   ],
   "source": [
    "print('''* \n",
    "* *\n",
    "* * *\n",
    "* * * *\n",
    "* * * * *''')"
   ]
  },
  {
   "cell_type": "code",
   "execution_count": 19,
   "id": "2f6582a2-702f-45c1-8a8c-e76c6cdc580e",
   "metadata": {},
   "outputs": [
    {
     "name": "stdout",
     "output_type": "stream",
     "text": [
      "* \n",
      "* * \n",
      "* * * \n",
      "* * * * \n",
      "* * * * * \n"
     ]
    }
   ],
   "source": [
    "# Define the number of rows for the triangle\n",
    "num_rows = 5  # You can change this number to adjust the size of the triangle\n",
    "\n",
    "# Outer loop for the number of rows\n",
    "for i in range(1, num_rows + 1):\n",
    "    # Inner loop for printing '*' in each row\n",
    "    for j in range(i):\n",
    "        print('*', end=' ')\n",
    "    # Move to the next line after each row is printed\n",
    "    print()\n"
   ]
  },
  {
   "cell_type": "markdown",
   "id": "76ff7e7a-1a72-41b0-a882-2eea8dfbdff2",
   "metadata": {},
   "source": [
    "20. Write a program to find the greatest common divisor (GCD) of two numbers using a `for` loop."
   ]
  },
  {
   "cell_type": "code",
   "execution_count": 22,
   "id": "bd446faa-4420-45ca-b4e8-3e474f81cd0e",
   "metadata": {},
   "outputs": [
    {
     "name": "stdin",
     "output_type": "stream",
     "text": [
      "Enter the first number:  36\n",
      "Enter the second number:  60\n"
     ]
    },
    {
     "name": "stdout",
     "output_type": "stream",
     "text": [
      "The GCD of 36 and 60 is 12\n"
     ]
    }
   ],
   "source": [
    "def find_gcd(a, b):\n",
    "    while b:\n",
    "        a, b = b, a % b\n",
    "    return a\n",
    "\n",
    "num1 = int(input(\"Enter the first number: \"))\n",
    "num2 = int(input(\"Enter the second number: \"))\n",
    "gcd = find_gcd(num1, num2)\n",
    "print(f\"The GCD of {num1} and {num2} is {gcd}\")"
   ]
  },
  {
   "cell_type": "markdown",
   "id": "47ffb452-e0a3-4198-b82c-fcd6a05a5d12",
   "metadata": {},
   "source": [
    "21. Create a program that calculates the sum of the digits of numbers in a list using a list comprehension."
   ]
  },
  {
   "cell_type": "code",
   "execution_count": 23,
   "id": "99b94d71-5daf-448c-990f-daf699568e37",
   "metadata": {},
   "outputs": [
    {
     "name": "stdout",
     "output_type": "stream",
     "text": [
      "Sum of digits for 123 is 6\n",
      "Sum of digits for 45 is 9\n",
      "Sum of digits for 67 is 13\n",
      "Sum of digits for 89 is 17\n"
     ]
    }
   ],
   "source": [
    "# Function to calculate the sum of digits of a number\n",
    "def sum_of_digits(number):\n",
    "    return sum(int(digit) for digit in str(number))\n",
    "\n",
    "# List of numbers\n",
    "numbers = [123, 45, 67, 89]\n",
    "\n",
    "# Calculate the sum of digits for each number in the list using a list comprehension\n",
    "digit_sums = [sum_of_digits(number) for number in numbers]\n",
    "\n",
    "# Print the results\n",
    "for i in range(len(numbers)):\n",
    "    print(f\"Sum of digits for {numbers[i]} is {digit_sums[i]}\")\n"
   ]
  },
  {
   "cell_type": "markdown",
   "id": "48859890-e295-4bc4-af3f-3aa7caa08d64",
   "metadata": {},
   "source": [
    "22. Write a program to find the prime factors of a given number using a `for` loop and list comprehension."
   ]
  },
  {
   "cell_type": "code",
   "execution_count": 28,
   "id": "fe3122d7-019d-4a9a-b01e-20ed54241623",
   "metadata": {},
   "outputs": [
    {
     "name": "stdin",
     "output_type": "stream",
     "text": [
      "Enter a number:  20\n"
     ]
    },
    {
     "name": "stdout",
     "output_type": "stream",
     "text": [
      "Prime factors of 20 are: [2, 2, 5]\n"
     ]
    }
   ],
   "source": [
    "# Function to find prime factors of a number\n",
    "def prime_factors(n):\n",
    "    factors = []\n",
    "    divisor = 2\n",
    "\n",
    "    while divisor <= n:\n",
    "        if n % divisor == 0:\n",
    "            factors.append(divisor)\n",
    "            n //= divisor\n",
    "        else:\n",
    "            divisor += 1\n",
    "\n",
    "    return factors\n",
    "\n",
    "# Input a number from the user\n",
    "num = int(input(\"Enter a number: \"))\n",
    "\n",
    "# Calculate and print the prime factors using list comprehension\n",
    "factors = prime_factors(num)\n",
    "\n",
    "print(f\"Prime factors of {num} are: {factors}\")\n"
   ]
  },
  {
   "cell_type": "markdown",
   "id": "7f2a60c6-9b33-40b0-9519-9b13326f881b",
   "metadata": {},
   "source": [
    "23. Develop a program that extracts unique elements from a list and stores them in a new list using a list\n",
    "comprehension."
   ]
  },
  {
   "cell_type": "code",
   "execution_count": 29,
   "id": "34e15962-00dd-4d27-b05b-1204d06a8b26",
   "metadata": {},
   "outputs": [
    {
     "data": {
      "text/plain": [
       "[1, 2, 3, 4, 5, 6]"
      ]
     },
     "execution_count": 29,
     "metadata": {},
     "output_type": "execute_result"
    }
   ],
   "source": [
    "original_list = [1, 2, 2, 3, 4, 4, 5, 6, 6]\n",
    "unique_lst=[]\n",
    "[unique_lst.append(i) for i in original_list if i not in unique_lst]\n",
    "unique_lst"
   ]
  },
  {
   "cell_type": "markdown",
   "id": "0c274c9e-031b-483a-9bcf-d5c7cb83f78c",
   "metadata": {},
   "source": [
    "24. Create a program that generates a list of all palindromic numbers up to a specified limit using a list\n",
    "comprehension."
   ]
  },
  {
   "cell_type": "code",
   "execution_count": 30,
   "id": "bd1779f1-f1b0-4077-9534-94f12529a054",
   "metadata": {},
   "outputs": [
    {
     "name": "stdin",
     "output_type": "stream",
     "text": [
      "Enter the upper limit:  100\n"
     ]
    },
    {
     "name": "stdout",
     "output_type": "stream",
     "text": [
      "Palindromic Numbers up to 100 are: [0, 1, 2, 3, 4, 5, 6, 7, 8, 9, 11, 22, 33, 44, 55, 66, 77, 88, 99]\n"
     ]
    }
   ],
   "source": [
    "\n",
    "def is_palindromic(number):\n",
    "    return str(number) == str(number)[::-1]\n",
    "limit = int(input(\"Enter the upper limit: \"))\n",
    "palindromic_numbers = [num for num in range(limit + 1) if is_palindromic(num)]\n",
    "print(\"Palindromic Numbers up to\", limit, \"are:\", palindromic_numbers)\n"
   ]
  },
  {
   "cell_type": "markdown",
   "id": "a8816f6f-3e63-4563-8144-3e4cfc80b4e7",
   "metadata": {},
   "source": [
    "25. Write a program to flatten a nested list using list comprehension."
   ]
  },
  {
   "cell_type": "code",
   "execution_count": 31,
   "id": "c4edfbab-039f-4c17-aada-067d299d6c1d",
   "metadata": {},
   "outputs": [
    {
     "name": "stdout",
     "output_type": "stream",
     "text": [
      "Original Nested List: [[1, 2, 3], [4, 5], [6, 7, 8]]\n",
      "Flattened List: [1, 2, 3, 4, 5, 6, 7, 8]\n"
     ]
    }
   ],
   "source": [
    "# Function to flatten a nested list using list comprehension\n",
    "def flatten_list(nested_list):\n",
    "    return [item for sublist in nested_list for item in sublist]\n",
    "\n",
    "# Example nested list\n",
    "nested_list = [[1, 2, 3], [4, 5], [6, 7, 8]]\n",
    "\n",
    "# Flatten the nested list\n",
    "flattened_list = flatten_list(nested_list)\n",
    "\n",
    "# Print the flattened list\n",
    "print(\"Original Nested List:\", nested_list)\n",
    "print(\"Flattened List:\", flattened_list)\n"
   ]
  },
  {
   "cell_type": "markdown",
   "id": "68249962-5bea-4373-8b2c-19108c5ba610",
   "metadata": {},
   "source": [
    "26. Develop a program that computes the sum of even and odd numbers in a list separately using list\n",
    "comprehension."
   ]
  },
  {
   "cell_type": "code",
   "execution_count": 32,
   "id": "2cb9c1fb-14e9-466e-bfa2-de478099049a",
   "metadata": {},
   "outputs": [
    {
     "name": "stdout",
     "output_type": "stream",
     "text": [
      "List of Numbers: [1, 2, 3, 4, 5, 6, 7, 8, 9, 10]\n",
      "Sum of Even Numbers: 30\n",
      "Sum of Odd Numbers: 25\n"
     ]
    }
   ],
   "source": [
    "# List of numbers\n",
    "numbers = [1, 2, 3, 4, 5, 6, 7, 8, 9, 10]\n",
    "\n",
    "# Calculate the sum of even and odd numbers separately using list comprehensions\n",
    "even_sum = sum([num for num in numbers if num % 2 == 0])\n",
    "odd_sum = sum([num for num in numbers if num % 2 != 0])\n",
    "\n",
    "# Print the results\n",
    "print(\"List of Numbers:\", numbers)\n",
    "print(\"Sum of Even Numbers:\", even_sum)\n",
    "print(\"Sum of Odd Numbers:\", odd_sum)\n"
   ]
  },
  {
   "cell_type": "code",
   "execution_count": 33,
   "id": "ad8aaec2-f92c-463f-9ef9-5d1c149b57d1",
   "metadata": {},
   "outputs": [
    {
     "name": "stdout",
     "output_type": "stream",
     "text": [
      "Squares of Odd Numbers between 1 and 10: [1, 9, 25, 49, 81]\n"
     ]
    }
   ],
   "source": [
    "# Generate a list of squares of odd numbers between 1 and 10 using list comprehension\n",
    "squares_of_odd_numbers = [x ** 2 for x in range(1, 11) if x % 2 != 0]\n",
    "\n",
    "# Print the list of squares of odd numbers\n",
    "print(\"Squares of Odd Numbers between 1 and 10:\", squares_of_odd_numbers)\n"
   ]
  },
  {
   "cell_type": "markdown",
   "id": "7c419fad-f0bf-4bd3-9753-e040bbd26cf8",
   "metadata": {},
   "source": [
    "28. Write a program that combines two lists into a dictionary using list comprehension."
   ]
  },
  {
   "cell_type": "code",
   "execution_count": 34,
   "id": "fe44a7b6-8560-4a44-9b59-7d91fbd457be",
   "metadata": {},
   "outputs": [
    {
     "name": "stdout",
     "output_type": "stream",
     "text": [
      "Combined Dictionary: {'name': 'Alice', 'age': 30, 'city': 'New York'}\n"
     ]
    }
   ],
   "source": [
    "# Two lists with keys and values\n",
    "keys = [\"name\", \"age\", \"city\"]\n",
    "values = [\"Alice\", 30, \"New York\"]\n",
    "\n",
    "# Combine the lists into a dictionary using list comprehension\n",
    "combined_dict = {keys[i]: values[i] for i in range(len(keys))}\n",
    "\n",
    "# Print the resulting dictionary\n",
    "print(\"Combined Dictionary:\", combined_dict)\n"
   ]
  },
  {
   "cell_type": "markdown",
   "id": "6e1bdff6-828e-427f-9b79-f2482e252ede",
   "metadata": {},
   "source": [
    "29. Develop a program that extracts the vowels from a string and stores them in a list using list comprehension."
   ]
  },
  {
   "cell_type": "code",
   "execution_count": 36,
   "id": "41fdd96a-dc4a-4c5d-bdbf-839661e67257",
   "metadata": {},
   "outputs": [
    {
     "data": {
      "text/plain": [
       "['w', 'l', 'c', 'm', 't', 'd', 't', 's', 'c', 'n', 'c', 's']"
      ]
     },
     "execution_count": 36,
     "metadata": {},
     "output_type": "execute_result"
    }
   ],
   "source": [
    "input_str=\"welcome to data sciences\"\n",
    "input_str=input_str.replace(\" \",\"\").lower()\n",
    "vowels=\"bcdfghjklmnpqrstvwxyz\"\n",
    "lst_vowels=[]\n",
    "[lst_vowels.append(char) for char in input_str if char in vowels] \n",
    "lst_vowels"
   ]
  },
  {
   "cell_type": "markdown",
   "id": "b8fe7d72-5965-4a97-acfb-ae7c739b7b4c",
   "metadata": {},
   "source": [
    "30. Create a program that removes all non-numeric characters from a list of strings using list comprehension."
   ]
  },
  {
   "cell_type": "code",
   "execution_count": 2,
   "id": "54643ae6-49b8-4129-97bf-6a9a4cbde6e5",
   "metadata": {},
   "outputs": [
    {
     "name": "stdout",
     "output_type": "stream",
     "text": [
      "Original List of Strings: ['abc123', '456def', '7ghi', 'jkl8mno']\n",
      "List of Numeric Strings: ['123', '456', '7', '8']\n"
     ]
    }
   ],
   "source": [
    "# List of strings with alphanumeric characters\n",
    "strings = [\"abc123\", \"456def\", \"7ghi\", \"jkl8mno\"]\n",
    "\n",
    "# Use list comprehension to remove non-numeric characters from each string\n",
    "numeric_strings = [''.join(filter(str.isdigit, s)) for s in strings]\n",
    "\n",
    "# Print the resulting list of numeric strings\n",
    "print(\"Original List of Strings:\", strings)\n",
    "print(\"List of Numeric Strings:\", numeric_strings)\n"
   ]
  },
  {
   "cell_type": "markdown",
   "id": "ee688ec4-0cb8-4b36-a5c9-3d1fbb14e356",
   "metadata": {},
   "source": [
    "Challenge Level:"
   ]
  },
  {
   "cell_type": "markdown",
   "id": "eaffcad6-42b6-4741-bdcf-7358d85dbcac",
   "metadata": {},
   "source": [
    "31. Write a program to generate a list of prime numbers using the Sieve of Eratosthenes algorithm and list\n",
    "comprehension."
   ]
  },
  {
   "cell_type": "code",
   "execution_count": 3,
   "id": "fca49c9f-8676-42bf-ab50-f7ab58fe2527",
   "metadata": {},
   "outputs": [
    {
     "name": "stdin",
     "output_type": "stream",
     "text": [
      "Enter the upper limit for prime numbers:  20\n"
     ]
    },
    {
     "name": "stdout",
     "output_type": "stream",
     "text": [
      "Prime numbers up to 20 are: [2, 3, 5, 7, 11, 13, 17, 19]\n"
     ]
    }
   ],
   "source": [
    "def sieve_of_eratosthenes(n):\n",
    "    sieve = [True] * (n + 1)\n",
    "    sieve[0] = sieve[1] = False\n",
    "\n",
    "    for current_num in range(2, int(n**0.5) + 1):\n",
    "        if sieve[current_num]:\n",
    "            for multiple in range(current_num * current_num, n + 1, current_num):\n",
    "                sieve[multiple] = False\n",
    "\n",
    "    prime_numbers = [num for num, is_prime in enumerate(sieve) if is_prime]\n",
    "\n",
    "    return prime_numbers\n",
    "\n",
    "# Input the upper limit for prime number generation\n",
    "upper_limit = int(input(\"Enter the upper limit for prime numbers: \"))\n",
    "\n",
    "if upper_limit < 2:\n",
    "    print(\"There are no prime numbers in this range.\")\n",
    "else:\n",
    "    prime_list = sieve_of_eratosthenes(upper_limit)\n",
    "    print(\"Prime numbers up to\", upper_limit, \"are:\", prime_list)\n"
   ]
  },
  {
   "cell_type": "markdown",
   "id": "cca4349a-e262-4295-a6c9-eb3afba1ce38",
   "metadata": {},
   "source": [
    "32. Create a program that generates a list of all Pythagorean triplets up to a specified limit using list\n",
    "comprehension."
   ]
  },
  {
   "cell_type": "code",
   "execution_count": 17,
   "id": "e2b69e6d-541a-4577-a7b8-2ef6330939ae",
   "metadata": {},
   "outputs": [
    {
     "name": "stdin",
     "output_type": "stream",
     "text": [
      "Enter the limit for generating Pythagorean triplets:  20\n"
     ]
    },
    {
     "name": "stdout",
     "output_type": "stream",
     "text": [
      "Pythagorean triplets up to 20 are: [(3, 4, 5), (5, 12, 13), (6, 8, 10), (8, 15, 17), (9, 12, 15)]\n"
     ]
    }
   ],
   "source": [
    "def generate_pythagorean_triplets(limit):\n",
    "    triplets = [(a, b, c) for a in range(1, limit)\n",
    "                          for b in range(a, limit)\n",
    "                          for c in range(b, limit)\n",
    "                          if a**2 + b**2 == c**2]\n",
    "    return triplets\n",
    "\n",
    "# Input the limit for generating Pythagorean triplets\n",
    "limit = int(input(\"Enter the limit for generating Pythagorean triplets: \"))\n",
    "\n",
    "if limit < 3:\n",
    "    print(\"Pythagorean triplets require a limit of at least 3.\")\n",
    "else:\n",
    "    pythagorean_triplets = generate_pythagorean_triplets(limit)\n",
    "    print(\"Pythagorean triplets up to\", limit, \"are:\", pythagorean_triplets)\n",
    "\n"
   ]
  },
  {
   "cell_type": "markdown",
   "id": "87fcf9cf-b2b0-454e-a0ed-95febfa8072e",
   "metadata": {},
   "source": [
    "33. Develop a program that generates a list of all possible combinations of two lists using list comprehension."
   ]
  },
  {
   "cell_type": "code",
   "execution_count": 18,
   "id": "afdef411-1526-41b7-a16d-b15d6feb71d7",
   "metadata": {},
   "outputs": [
    {
     "name": "stdout",
     "output_type": "stream",
     "text": [
      "All possible combinations of two lists:\n",
      "[(1, 4), (1, 5), (2, 4), (2, 5), (3, 4), (3, 5)]\n"
     ]
    }
   ],
   "source": [
    "list1 = [1, 2, 3]\n",
    "list2 = [4, 5]\n",
    "\n",
    "combinations = [(x, y) for x in list1 for y in list2]\n",
    "\n",
    "print(\"All possible combinations of two lists:\")\n",
    "print(combinations)\n"
   ]
  },
  {
   "cell_type": "markdown",
   "id": "c2c7376a-ba95-4994-9e01-c3b0d364ea68",
   "metadata": {},
   "source": [
    "34. Write a program that calculates the mean, median, and mode of a list of numbers using list\n",
    "comprehension."
   ]
  },
  {
   "cell_type": "code",
   "execution_count": 21,
   "id": "ae5821df-0897-4c6a-8d77-2154b9af07a7",
   "metadata": {},
   "outputs": [
    {
     "name": "stdout",
     "output_type": "stream",
     "text": [
      "List of numbers: [1, 2, 3, 4, 5, 6, 7, 8, 9, 10, 11, 12, 12]\n",
      "Mean: 6.923076923076923\n",
      "Median: 7.0\n",
      "Mode: [12]\n"
     ]
    }
   ],
   "source": [
    "from statistics import mean, median, mode\n",
    "\n",
    "# Sample list of numbers (replace with your own data)\n",
    "numbers = [1, 2, 3, 4, 5,  6, 7, 8, 9,10,11,12,12]\n",
    "\n",
    "# Calculate mean using list comprehension\n",
    "mean_result = sum(numbers) / len(numbers)\n",
    "\n",
    "# Calculate median using list comprehension\n",
    "sorted_numbers = sorted(numbers)\n",
    "median_result = (sorted_numbers[len(sorted_numbers) // 2] + sorted_numbers[(len(sorted_numbers) - 1) // 2]) / 2\n",
    "\n",
    "# Calculate mode using list comprehension\n",
    "count_dict = {num: numbers.count(num) for num in numbers}\n",
    "mode_result = [key for key, value in count_dict.items() if value == max(count_dict.values())]\n",
    "\n",
    "print(\"List of numbers:\", numbers)\n",
    "print(\"Mean:\", mean_result)\n",
    "print(\"Median:\", median_result)\n",
    "print(\"Mode:\", mode_result)\n"
   ]
  },
  {
   "cell_type": "markdown",
   "id": "fe2449a2-9f22-45e6-ae16-381ce264c07c",
   "metadata": {},
   "source": [
    "35. Create a program that generates Pascal's triangle up to a specified number of rows using list\n",
    "comprehension."
   ]
  },
  {
   "cell_type": "code",
   "execution_count": 22,
   "id": "3eef6dcd-f03f-462f-b3ae-cef5bb70c6f2",
   "metadata": {},
   "outputs": [
    {
     "name": "stdin",
     "output_type": "stream",
     "text": [
      "Enter the number of rows for Pascal's triangle:  10\n"
     ]
    },
    {
     "name": "stdout",
     "output_type": "stream",
     "text": [
      "              1               \n",
      "             1 1              \n",
      "            1 2 1             \n",
      "           1 3 3 1            \n",
      "          1 4 6 4 1           \n",
      "        1 5 10 10 5 1         \n",
      "       1 6 15 20 15 6 1       \n",
      "     1 7 21 35 35 21 7 1      \n",
      "    1 8 28 56 70 56 28 8 1    \n",
      " 1 9 36 84 126 126 84 36 9 1  \n"
     ]
    }
   ],
   "source": [
    "def generate_pascals_triangle(rows):\n",
    "    triangle = [[1]]\n",
    "\n",
    "    for i in range(1, rows):\n",
    "        previous_row = triangle[-1]\n",
    "        new_row = [1] + [previous_row[j - 1] + previous_row[j] for j in range(1, i)] + [1]\n",
    "        triangle.append(new_row)\n",
    "\n",
    "    return triangle\n",
    "\n",
    "# Input the number of rows for Pascal's triangle\n",
    "rows = int(input(\"Enter the number of rows for Pascal's triangle: \"))\n",
    "\n",
    "if rows < 1:\n",
    "    print(\"Please enter a positive integer for the number of rows.\")\n",
    "else:\n",
    "    pascals_triangle = generate_pascals_triangle(rows)\n",
    "\n",
    "    # Print Pascal's triangle\n",
    "    for row in pascals_triangle:\n",
    "        print(\" \".join(map(str, row)).center(rows * 3))\n"
   ]
  },
  {
   "cell_type": "markdown",
   "id": "892681e3-9424-4158-a729-cc67f8719312",
   "metadata": {},
   "source": [
    "36. Develop a program that calculates the sum of the digits of a factorial of numbers from 1 to 5 using list\n",
    "comprehension."
   ]
  },
  {
   "cell_type": "code",
   "execution_count": 23,
   "id": "9a18a01d-e280-4074-b728-21cb8a734f9d",
   "metadata": {},
   "outputs": [
    {
     "name": "stdout",
     "output_type": "stream",
     "text": [
      "Factorial of 1: 1, Sum of digits: 1\n",
      "Factorial of 2: 2, Sum of digits: 2\n",
      "Factorial of 3: 6, Sum of digits: 6\n",
      "Factorial of 4: 24, Sum of digits: 6\n",
      "Factorial of 5: 120, Sum of digits: 3\n"
     ]
    }
   ],
   "source": [
    "def factorial(n):\n",
    "    if n == 0 or n == 1:\n",
    "        return 1\n",
    "    else:\n",
    "        return n * factorial(n - 1)\n",
    "\n",
    "# Calculate factorial and sum of digits using list comprehension\n",
    "factorials = [factorial(i) for i in range(1, 6)]\n",
    "sums_of_digits = [sum(int(digit) for digit in str(factorial_num)) for factorial_num in factorials]\n",
    "\n",
    "# Display the results\n",
    "for n, factorial_num, digit_sum in zip(range(1, 6), factorials, sums_of_digits):\n",
    "    print(f\"Factorial of {n}: {factorial_num}, Sum of digits: {digit_sum}\")\n"
   ]
  },
  {
   "cell_type": "markdown",
   "id": "09b55029-547e-48dc-9854-b7c34770a3ab",
   "metadata": {},
   "source": [
    "37. Write a program that finds the longest word in a sentence using list comprehension."
   ]
  },
  {
   "cell_type": "code",
   "execution_count": 24,
   "id": "95913212-6b96-458a-b5b6-b8783881a298",
   "metadata": {},
   "outputs": [
    {
     "name": "stdin",
     "output_type": "stream",
     "text": [
      "Enter a sentence:  welcome to data\n"
     ]
    },
    {
     "name": "stdout",
     "output_type": "stream",
     "text": [
      "The longest word in the sentence is: welcome\n"
     ]
    }
   ],
   "source": [
    "# Input a sentence from the user\n",
    "sentence = input(\"Enter a sentence: \")\n",
    "\n",
    "# Split the sentence into words using spaces as the delimiter\n",
    "words = sentence.split()\n",
    "\n",
    "# Find the longest word using list comprehension\n",
    "longest_word = max(words, key=lambda word: len(word))\n",
    "\n",
    "print(\"The longest word in the sentence is:\", longest_word)\n"
   ]
  },
  {
   "cell_type": "markdown",
   "id": "1e53e296-8f82-402a-8d77-39b597e89549",
   "metadata": {},
   "source": [
    "38. Create a program that filters a list of strings to include only those with more than three vowels using list\n",
    "comprehension."
   ]
  },
  {
   "cell_type": "code",
   "execution_count": 29,
   "id": "36b3a850-06c5-4516-bcc6-f93f3c0cf6c8",
   "metadata": {},
   "outputs": [
    {
     "name": "stdout",
     "output_type": "stream",
     "text": [
      "Strings with more than three vowels:\n",
      "hellooo\n",
      "pythoneee\n",
      "aardvarkaa\n"
     ]
    }
   ],
   "source": [
    "# Function to count vowels in a string\n",
    "def count_vowels(string):\n",
    "    vowels = \"AEIOUaeiou\"\n",
    "    return sum(1 for char in string if char in vowels)\n",
    "\n",
    "# List of strings\n",
    "string_list = [\"hellooo\", \"programming\", \"pythoneee\", \"example\", \"aardvarkaa\"]\n",
    "\n",
    "# Filter strings with more than three vowels using list comprehension\n",
    "filtered_strings = [string for string in string_list if count_vowels(string) > 3]\n",
    "\n",
    "# Print the filtered strings\n",
    "print(\"Strings with more than three vowels:\")\n",
    "for string in filtered_strings:\n",
    "    print(string)\n"
   ]
  },
  {
   "cell_type": "markdown",
   "id": "7d39151d-4dc9-4303-9272-c95418096b25",
   "metadata": {},
   "source": [
    "39. Develop a program that calculates the sum of the digits of numbers from 1 to 1000 using list\n",
    "comprehension."
   ]
  },
  {
   "cell_type": "code",
   "execution_count": 30,
   "id": "40555bf5-6433-4309-b36e-92dbc8afd285",
   "metadata": {},
   "outputs": [
    {
     "name": "stdout",
     "output_type": "stream",
     "text": [
      "Sum of the digits for numbers from 1 to 1000: 13501\n"
     ]
    }
   ],
   "source": [
    "# Define a function to calculate the sum of digits for a given number\n",
    "def sum_of_digits(number):\n",
    "    return sum(int(digit) for digit in str(number))\n",
    "\n",
    "# Use list comprehension to calculate the sum of digits for numbers from 1 to 1000\n",
    "digit_sums = [sum_of_digits(number) for number in range(1, 1001)]\n",
    "\n",
    "# Calculate the total sum of all the digit sums\n",
    "total_sum = sum(digit_sums)\n",
    "\n",
    "print(\"Sum of the digits for numbers from 1 to 1000:\", total_sum)\n"
   ]
  },
  {
   "cell_type": "markdown",
   "id": "57b3da2e-81c9-4f34-b48c-f5fbf0810b20",
   "metadata": {},
   "source": [
    "40. Write a program that generates a list of prime palindromic numbers using list comprehension."
   ]
  },
  {
   "cell_type": "code",
   "execution_count": 31,
   "id": "4cb6b27c-10f5-4ee7-b7bf-e5a3e085e6dd",
   "metadata": {},
   "outputs": [
    {
     "name": "stdout",
     "output_type": "stream",
     "text": [
      "Prime palindromic numbers: [2, 3, 5, 7, 11, 101, 131, 151, 181, 191, 313, 353, 373, 383, 727, 757, 787, 797, 919, 929]\n"
     ]
    }
   ],
   "source": [
    "# Function to check if a number is prime\n",
    "def is_prime(n):\n",
    "    if n <= 1:\n",
    "        return False\n",
    "    if n <= 3:\n",
    "        return True\n",
    "    if n % 2 == 0 or n % 3 == 0:\n",
    "        return False\n",
    "    i = 5\n",
    "    while i * i <= n:\n",
    "        if n % i == 0 or n % (i + 2) == 0:\n",
    "            return False\n",
    "        i += 6\n",
    "    return True\n",
    "\n",
    "# Generate a list of prime palindromic numbers using list comprehension\n",
    "prime_palindromic_numbers = [num for num in range(1, 1000) if is_prime(num) and str(num) == str(num)[::-1]]\n",
    "\n",
    "# Print the prime palindromic numbers\n",
    "print(\"Prime palindromic numbers:\", prime_palindromic_numbers)\n"
   ]
  },
  {
   "cell_type": "code",
   "execution_count": null,
   "id": "454b7d8d-a88e-45bb-be95-f9a46757a07e",
   "metadata": {},
   "outputs": [],
   "source": []
  }
 ],
 "metadata": {
  "kernelspec": {
   "display_name": "Python 3 (ipykernel)",
   "language": "python",
   "name": "python3"
  },
  "language_info": {
   "codemirror_mode": {
    "name": "ipython",
    "version": 3
   },
   "file_extension": ".py",
   "mimetype": "text/x-python",
   "name": "python",
   "nbconvert_exporter": "python",
   "pygments_lexer": "ipython3",
   "version": "3.10.8"
  }
 },
 "nbformat": 4,
 "nbformat_minor": 5
}
