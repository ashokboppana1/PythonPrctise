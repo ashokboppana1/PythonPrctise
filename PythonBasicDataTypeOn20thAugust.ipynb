{
 "cells": [
  {
   "cell_type": "code",
   "execution_count": 6,
   "id": "e86307e2-baf3-4b1c-8311-6346fb46517a",
   "metadata": {},
   "outputs": [],
   "source": [
    "l=[1,2,3,4,5,\"ashok\",\"boppana\",4+6j,58.677,[1,2,3,5,6]]"
   ]
  },
  {
   "cell_type": "code",
   "execution_count": 7,
   "id": "9c6cd611-9a73-4336-9b6d-9b39d4221de2",
   "metadata": {},
   "outputs": [
    {
     "data": {
      "text/plain": [
       "[1, 2, 3, 4, 5, 'ashok', 'boppana', (4+6j), 58.677, [1, 2, 3, 5, 6]]"
      ]
     },
     "execution_count": 7,
     "metadata": {},
     "output_type": "execute_result"
    }
   ],
   "source": [
    "l"
   ]
  },
  {
   "cell_type": "code",
   "execution_count": 8,
   "id": "51ae3e9d-7205-400d-9a23-76f21daaaf5f",
   "metadata": {},
   "outputs": [
    {
     "data": {
      "text/plain": [
       "list"
      ]
     },
     "execution_count": 8,
     "metadata": {},
     "output_type": "execute_result"
    }
   ],
   "source": [
    "type(l)"
   ]
  },
  {
   "cell_type": "code",
   "execution_count": 9,
   "id": "7602099a-6c43-4f5a-a360-56631ceb2774",
   "metadata": {},
   "outputs": [
    {
     "data": {
      "text/plain": [
       "'ashok'"
      ]
     },
     "execution_count": 9,
     "metadata": {},
     "output_type": "execute_result"
    }
   ],
   "source": [
    "l[5]"
   ]
  },
  {
   "cell_type": "code",
   "execution_count": 10,
   "id": "1ac29fad-5708-4c3f-aa09-8933c74dc912",
   "metadata": {},
   "outputs": [
    {
     "data": {
      "text/plain": [
       "[1, 2, 3, 4]"
      ]
     },
     "execution_count": 10,
     "metadata": {},
     "output_type": "execute_result"
    }
   ],
   "source": [
    "l[0:4:]\n"
   ]
  },
  {
   "cell_type": "code",
   "execution_count": 11,
   "id": "769e46a0-6a02-490e-aca4-809bf1175550",
   "metadata": {},
   "outputs": [
    {
     "data": {
      "text/plain": [
       "6"
      ]
     },
     "execution_count": 11,
     "metadata": {},
     "output_type": "execute_result"
    }
   ],
   "source": [
    "l[-1][4]"
   ]
  },
  {
   "cell_type": "code",
   "execution_count": 12,
   "id": "028f2993-4564-47ae-ad47-085d25e6a41d",
   "metadata": {},
   "outputs": [],
   "source": [
    "l[5]=\"sandhya\""
   ]
  },
  {
   "cell_type": "code",
   "execution_count": 13,
   "id": "2d7725b4-1a3d-4227-9eb4-9bfa34d3c94b",
   "metadata": {},
   "outputs": [
    {
     "data": {
      "text/plain": [
       "[1, 2, 3, 4, 5, 'sandhya', 'boppana', (4+6j), 58.677, [1, 2, 3, 5, 6]]"
      ]
     },
     "execution_count": 13,
     "metadata": {},
     "output_type": "execute_result"
    }
   ],
   "source": [
    "l"
   ]
  },
  {
   "cell_type": "code",
   "execution_count": 14,
   "id": "7dd33ffe-34ed-46d3-b509-d8eac02f5b21",
   "metadata": {},
   "outputs": [],
   "source": [
    "t=(1,2,3,4,5,\"ashok\",6+7j,67.888,True)\n"
   ]
  },
  {
   "cell_type": "code",
   "execution_count": 15,
   "id": "45aeade7-c288-4fbe-a2d1-38ae6ef35e18",
   "metadata": {},
   "outputs": [
    {
     "data": {
      "text/plain": [
       "tuple"
      ]
     },
     "execution_count": 15,
     "metadata": {},
     "output_type": "execute_result"
    }
   ],
   "source": [
    "type(t)"
   ]
  },
  {
   "cell_type": "code",
   "execution_count": 16,
   "id": "f1e81fd6-ac80-4434-ba99-28a2e6074dde",
   "metadata": {},
   "outputs": [
    {
     "ename": "TypeError",
     "evalue": "'tuple' object does not support item assignment",
     "output_type": "error",
     "traceback": [
      "\u001b[0;31m---------------------------------------------------------------------------\u001b[0m",
      "\u001b[0;31mTypeError\u001b[0m                                 Traceback (most recent call last)",
      "Cell \u001b[0;32mIn[16], line 1\u001b[0m\n\u001b[0;32m----> 1\u001b[0m \u001b[43mt\u001b[49m\u001b[43m[\u001b[49m\u001b[38;5;241;43m0\u001b[39;49m\u001b[43m]\u001b[49m\u001b[38;5;241m=\u001b[39m\u001b[38;5;124m\"\u001b[39m\u001b[38;5;124msandhya\u001b[39m\u001b[38;5;124m\"\u001b[39m\n",
      "\u001b[0;31mTypeError\u001b[0m: 'tuple' object does not support item assignment"
     ]
    }
   ],
   "source": [
    "t[0]=\"sandhya\"\n"
   ]
  },
  {
   "cell_type": "code",
   "execution_count": 17,
   "id": "1bd7eabf-1283-4b80-be4d-c027e745167a",
   "metadata": {},
   "outputs": [],
   "source": [
    "# tuples are immutable where as list is mutable"
   ]
  },
  {
   "cell_type": "code",
   "execution_count": 18,
   "id": "4db9538c-b4ee-4cc3-ae72-c1b2c74e26b8",
   "metadata": {},
   "outputs": [
    {
     "data": {
      "text/plain": [
       "(1,\n",
       " 2,\n",
       " 3,\n",
       " 4,\n",
       " 5,\n",
       " 'ashok',\n",
       " (6+7j),\n",
       " 67.888,\n",
       " True,\n",
       " 1,\n",
       " 2,\n",
       " 3,\n",
       " 4,\n",
       " 5,\n",
       " 'ashok',\n",
       " (6+7j),\n",
       " 67.888,\n",
       " True)"
      ]
     },
     "execution_count": 18,
     "metadata": {},
     "output_type": "execute_result"
    }
   ],
   "source": [
    "t*2"
   ]
  },
  {
   "cell_type": "code",
   "execution_count": 19,
   "id": "714216ba-68d1-4d11-8c68-08f5d15e87b2",
   "metadata": {},
   "outputs": [],
   "source": [
    "t1=(1,2,3,4,5,[4,5,6])"
   ]
  },
  {
   "cell_type": "code",
   "execution_count": 20,
   "id": "bc91bb11-a55d-426a-b79f-790b74623d1d",
   "metadata": {},
   "outputs": [
    {
     "data": {
      "text/plain": [
       "(1, 2, 3, 4, 5, [4, 5, 6])"
      ]
     },
     "execution_count": 20,
     "metadata": {},
     "output_type": "execute_result"
    }
   ],
   "source": [
    "t1"
   ]
  },
  {
   "cell_type": "code",
   "execution_count": 21,
   "id": "4e34b81b-78e9-4700-8f82-f51081417475",
   "metadata": {},
   "outputs": [],
   "source": [
    "l3=[3,4,4,6,(5,6,9)]\n"
   ]
  },
  {
   "cell_type": "code",
   "execution_count": 22,
   "id": "4975b0e1-d71d-4b31-ae94-88080f96d919",
   "metadata": {},
   "outputs": [
    {
     "data": {
      "text/plain": [
       "[3, 4, 4, 6, (5, 6, 9)]"
      ]
     },
     "execution_count": 22,
     "metadata": {},
     "output_type": "execute_result"
    }
   ],
   "source": [
    "l3"
   ]
  },
  {
   "cell_type": "code",
   "execution_count": 24,
   "id": "efea791e-e16b-4c37-8ec0-1c622a5292b4",
   "metadata": {},
   "outputs": [],
   "source": [
    "#inside tuple we can use list and inside list we can use tuple and type casting is fron \n",
    "#tuple to list and vice versa\n"
   ]
  },
  {
   "cell_type": "code",
   "execution_count": 26,
   "id": "936726e6-c033-450a-96f2-050ab19bb33b",
   "metadata": {},
   "outputs": [
    {
     "data": {
      "text/plain": [
       "set"
      ]
     },
     "execution_count": 26,
     "metadata": {},
     "output_type": "execute_result"
    }
   ],
   "source": [
    "s1={1,3,4,5,4,1,2,\"ashok\"}\n",
    "type(s1)"
   ]
  },
  {
   "cell_type": "code",
   "execution_count": 27,
   "id": "43bad1a7-8874-4791-ba83-2b48e0c99d2b",
   "metadata": {},
   "outputs": [
    {
     "data": {
      "text/plain": [
       "{1, 2, 3, 4, 5, 'ashok'}"
      ]
     },
     "execution_count": 27,
     "metadata": {},
     "output_type": "execute_result"
    }
   ],
   "source": [
    "s1"
   ]
  },
  {
   "cell_type": "code",
   "execution_count": 28,
   "id": "ffd7e0f7-5aab-48cf-9f82-e455a6335caf",
   "metadata": {},
   "outputs": [
    {
     "data": {
      "text/plain": [
       "[1, 2, 3, 4, 5, 'ashok']"
      ]
     },
     "execution_count": 28,
     "metadata": {},
     "output_type": "execute_result"
    }
   ],
   "source": [
    "list(s1)\n"
   ]
  },
  {
   "cell_type": "code",
   "execution_count": 29,
   "id": "9257a1ed-f78f-43ff-93a8-289a6d1d029e",
   "metadata": {},
   "outputs": [
    {
     "data": {
      "text/plain": [
       "[1, 2, 3, 4, 5, 'sandhya', 'boppana', (4+6j), 58.677, [1, 2, 3, 5, 6]]"
      ]
     },
     "execution_count": 29,
     "metadata": {},
     "output_type": "execute_result"
    }
   ],
   "source": [
    "l"
   ]
  },
  {
   "cell_type": "code",
   "execution_count": 30,
   "id": "4eb4102a-cbc5-4963-81c4-6fa8a0814687",
   "metadata": {},
   "outputs": [
    {
     "ename": "TypeError",
     "evalue": "unhashable type: 'list'",
     "output_type": "error",
     "traceback": [
      "\u001b[0;31m---------------------------------------------------------------------------\u001b[0m",
      "\u001b[0;31mTypeError\u001b[0m                                 Traceback (most recent call last)",
      "Cell \u001b[0;32mIn[30], line 1\u001b[0m\n\u001b[0;32m----> 1\u001b[0m \u001b[38;5;28;43mset\u001b[39;49m\u001b[43m(\u001b[49m\u001b[43ml\u001b[49m\u001b[43m)\u001b[49m\n",
      "\u001b[0;31mTypeError\u001b[0m: unhashable type: 'list'"
     ]
    }
   ],
   "source": [
    "set(l)"
   ]
  },
  {
   "cell_type": "code",
   "execution_count": 31,
   "id": "59c05bf9-043f-455c-99db-e9a30d8e410e",
   "metadata": {},
   "outputs": [
    {
     "data": {
      "text/plain": [
       "[1, 2, 3, 4, 5, 'sandhya', 'boppana', (4+6j), 58.677, [1, 2, 3, 5, 6]]"
      ]
     },
     "execution_count": 31,
     "metadata": {},
     "output_type": "execute_result"
    }
   ],
   "source": [
    "l"
   ]
  },
  {
   "cell_type": "code",
   "execution_count": 32,
   "id": "e600ecd2-85a1-47c0-9be2-b6a6552aefd9",
   "metadata": {},
   "outputs": [],
   "source": [
    "#list inside list type casting is not possible in list to set"
   ]
  },
  {
   "cell_type": "code",
   "execution_count": 33,
   "id": "bdcffa37-495d-4864-8a03-52ee4961b242",
   "metadata": {},
   "outputs": [
    {
     "data": {
      "text/plain": [
       "(1, 2, 3, 4, 5, 'ashok')"
      ]
     },
     "execution_count": 33,
     "metadata": {},
     "output_type": "execute_result"
    }
   ],
   "source": [
    "tuple(s1)"
   ]
  },
  {
   "cell_type": "code",
   "execution_count": 34,
   "id": "5e239fc3-e145-4593-a8e4-efce881d8b36",
   "metadata": {},
   "outputs": [
    {
     "ename": "TypeError",
     "evalue": "'set' object is not subscriptable",
     "output_type": "error",
     "traceback": [
      "\u001b[0;31m---------------------------------------------------------------------------\u001b[0m",
      "\u001b[0;31mTypeError\u001b[0m                                 Traceback (most recent call last)",
      "Cell \u001b[0;32mIn[34], line 1\u001b[0m\n\u001b[0;32m----> 1\u001b[0m \u001b[43ms1\u001b[49m\u001b[43m[\u001b[49m\u001b[38;5;241;43m0\u001b[39;49m\u001b[43m]\u001b[49m\n",
      "\u001b[0;31mTypeError\u001b[0m: 'set' object is not subscriptable"
     ]
    }
   ],
   "source": [
    "s1[0]"
   ]
  },
  {
   "cell_type": "code",
   "execution_count": 36,
   "id": "e92919a7-5b5d-469c-854a-2382932178e4",
   "metadata": {},
   "outputs": [],
   "source": [
    "# set didnt support indexing\n"
   ]
  },
  {
   "cell_type": "code",
   "execution_count": 42,
   "id": "d34f8ece-7abd-4197-ace9-e209c5315fc9",
   "metadata": {},
   "outputs": [],
   "source": [
    "dict={\"name\":\"ashok\",\"skills\":[\"python\",\"ML\",\"DL\"]}\n"
   ]
  },
  {
   "cell_type": "code",
   "execution_count": 43,
   "id": "4891bc4e-ad52-41bc-be1c-3bfd052a748c",
   "metadata": {},
   "outputs": [
    {
     "data": {
      "text/plain": [
       "{'name': 'ashok', 'skills': ['python', 'ML', 'DL']}"
      ]
     },
     "execution_count": 43,
     "metadata": {},
     "output_type": "execute_result"
    }
   ],
   "source": [
    "dict"
   ]
  },
  {
   "cell_type": "code",
   "execution_count": 44,
   "id": "80f5e177-3da6-4c9f-95f7-3107810ecee4",
   "metadata": {},
   "outputs": [
    {
     "data": {
      "text/plain": [
       "'ashok'"
      ]
     },
     "execution_count": 44,
     "metadata": {},
     "output_type": "execute_result"
    }
   ],
   "source": [
    "dict[\"name\"]"
   ]
  },
  {
   "cell_type": "code",
   "execution_count": 45,
   "id": "8192fedb-190d-453a-a312-794695fbb5a2",
   "metadata": {},
   "outputs": [],
   "source": [
    "dict[\"name\"]=\"sandhya\""
   ]
  },
  {
   "cell_type": "code",
   "execution_count": 46,
   "id": "c0a40891-9702-4c79-a72c-7be0988aaef3",
   "metadata": {},
   "outputs": [
    {
     "data": {
      "text/plain": [
       "{'name': 'sandhya', 'skills': ['python', 'ML', 'DL']}"
      ]
     },
     "execution_count": 46,
     "metadata": {},
     "output_type": "execute_result"
    }
   ],
   "source": [
    "dict"
   ]
  },
  {
   "cell_type": "code",
   "execution_count": 47,
   "id": "a18b3003-bc53-40c6-ae5b-4c994390feeb",
   "metadata": {},
   "outputs": [
    {
     "data": {
      "text/plain": [
       "['python', 'ML', 'DL']"
      ]
     },
     "execution_count": 47,
     "metadata": {},
     "output_type": "execute_result"
    }
   ],
   "source": [
    "dict[\"skills\"]"
   ]
  },
  {
   "cell_type": "code",
   "execution_count": 49,
   "id": "139caf09-3fb8-4a8f-9468-652403690186",
   "metadata": {},
   "outputs": [
    {
     "data": {
      "text/plain": [
       "dict_keys(['name', 'skills'])"
      ]
     },
     "execution_count": 49,
     "metadata": {},
     "output_type": "execute_result"
    }
   ],
   "source": [
    "dict.keys()"
   ]
  },
  {
   "cell_type": "code",
   "execution_count": 50,
   "id": "17070e00-545e-48a5-b972-2b947c15de71",
   "metadata": {},
   "outputs": [
    {
     "data": {
      "text/plain": [
       "dict_values(['sandhya', ['python', 'ML', 'DL']])"
      ]
     },
     "execution_count": 50,
     "metadata": {},
     "output_type": "execute_result"
    }
   ],
   "source": [
    "dict.values()"
   ]
  },
  {
   "cell_type": "code",
   "execution_count": 52,
   "id": "7e63504e-a4e7-462d-ab7d-c60ec5b92fbc",
   "metadata": {},
   "outputs": [
    {
     "data": {
      "text/plain": [
       "dict_items([('name', 'sandhya'), ('skills', ['python', 'ML', 'DL'])])"
      ]
     },
     "execution_count": 52,
     "metadata": {},
     "output_type": "execute_result"
    }
   ],
   "source": [
    "dict.items()"
   ]
  },
  {
   "cell_type": "code",
   "execution_count": 53,
   "id": "57cf690b-9d8e-48f5-b7d8-c1c920b4a797",
   "metadata": {},
   "outputs": [],
   "source": [
    "dict1={(4,5,5):\"ashok\"}"
   ]
  },
  {
   "cell_type": "code",
   "execution_count": 54,
   "id": "ec89b63f-daf5-442e-ab75-9f8ea9236eec",
   "metadata": {},
   "outputs": [
    {
     "data": {
      "text/plain": [
       "{(4, 5, 5): 'ashok'}"
      ]
     },
     "execution_count": 54,
     "metadata": {},
     "output_type": "execute_result"
    }
   ],
   "source": [
    "dict1"
   ]
  },
  {
   "cell_type": "code",
   "execution_count": 55,
   "id": "4d75bf8b-f28d-463b-a793-a317efb23577",
   "metadata": {},
   "outputs": [
    {
     "ename": "TypeError",
     "evalue": "unhashable type: 'list'",
     "output_type": "error",
     "traceback": [
      "\u001b[0;31m---------------------------------------------------------------------------\u001b[0m",
      "\u001b[0;31mTypeError\u001b[0m                                 Traceback (most recent call last)",
      "Cell \u001b[0;32mIn[55], line 1\u001b[0m\n\u001b[0;32m----> 1\u001b[0m dict1\u001b[38;5;241m=\u001b[39m{[\u001b[38;5;241m4\u001b[39m,\u001b[38;5;241m5\u001b[39m,\u001b[38;5;241m5\u001b[39m]:\u001b[38;5;124m\"\u001b[39m\u001b[38;5;124mashok\u001b[39m\u001b[38;5;124m\"\u001b[39m}\n",
      "\u001b[0;31mTypeError\u001b[0m: unhashable type: 'list'"
     ]
    }
   ],
   "source": [
    "dict1={[4,5,5]:\"ashok\"}"
   ]
  },
  {
   "cell_type": "code",
   "execution_count": 56,
   "id": "6b4f66c6-541e-4f98-b954-7fcb639d8c6e",
   "metadata": {},
   "outputs": [],
   "source": [
    "s1=\"pwskills\""
   ]
  },
  {
   "cell_type": "code",
   "execution_count": 58,
   "id": "b37cdddd-37d5-481f-89fe-a0af7a078c4d",
   "metadata": {},
   "outputs": [
    {
     "data": {
      "text/plain": [
       "2"
      ]
     },
     "execution_count": 58,
     "metadata": {},
     "output_type": "execute_result"
    }
   ],
   "source": [
    "s1.count('l')"
   ]
  },
  {
   "cell_type": "code",
   "execution_count": 60,
   "id": "f0e19236-564d-4a8d-b402-27a7b6917c31",
   "metadata": {},
   "outputs": [
    {
     "data": {
      "text/plain": [
       "3"
      ]
     },
     "execution_count": 60,
     "metadata": {},
     "output_type": "execute_result"
    }
   ],
   "source": [
    "s1.find('k')"
   ]
  },
  {
   "cell_type": "code",
   "execution_count": 61,
   "id": "1b6bb026-e835-40cd-9792-865980838e4e",
   "metadata": {},
   "outputs": [
    {
     "ename": "ValueError",
     "evalue": "substring not found",
     "output_type": "error",
     "traceback": [
      "\u001b[0;31m---------------------------------------------------------------------------\u001b[0m",
      "\u001b[0;31mValueError\u001b[0m                                Traceback (most recent call last)",
      "Cell \u001b[0;32mIn[61], line 1\u001b[0m\n\u001b[0;32m----> 1\u001b[0m \u001b[43ms1\u001b[49m\u001b[38;5;241;43m.\u001b[39;49m\u001b[43mindex\u001b[49m\u001b[43m(\u001b[49m\u001b[38;5;124;43m'\u001b[39;49m\u001b[38;5;124;43mz\u001b[39;49m\u001b[38;5;124;43m'\u001b[39;49m\u001b[43m)\u001b[49m\n",
      "\u001b[0;31mValueError\u001b[0m: substring not found"
     ]
    }
   ],
   "source": [
    "s1.index('z')"
   ]
  },
  {
   "cell_type": "code",
   "execution_count": 62,
   "id": "febe2b6e-30a5-49fc-8592-45ef9f528292",
   "metadata": {},
   "outputs": [],
   "source": [
    "l3=['ashok',2,4,9]\n",
    "l3.extend('ashok')"
   ]
  },
  {
   "cell_type": "code",
   "execution_count": 63,
   "id": "793d4c4b-19c4-406c-ace4-a8e12721300e",
   "metadata": {},
   "outputs": [
    {
     "data": {
      "text/plain": [
       "['ashok', 2, 4, 9, 'a', 's', 'h', 'o', 'k']"
      ]
     },
     "execution_count": 63,
     "metadata": {},
     "output_type": "execute_result"
    }
   ],
   "source": [
    "l3"
   ]
  },
  {
   "cell_type": "code",
   "execution_count": 64,
   "id": "de1d0cc7-2c4c-4ecb-86cc-2d27227ff6b5",
   "metadata": {},
   "outputs": [],
   "source": [
    "l1=[1,2,3]\n",
    "l2=l1"
   ]
  },
  {
   "cell_type": "code",
   "execution_count": 65,
   "id": "d088c4ba-bf38-4ba4-98a0-7cc2e15b99f8",
   "metadata": {},
   "outputs": [],
   "source": [
    "l1[0]=300\n"
   ]
  },
  {
   "cell_type": "code",
   "execution_count": 66,
   "id": "ad172ae6-9233-4138-aa3d-44cc2db7cde3",
   "metadata": {},
   "outputs": [
    {
     "data": {
      "text/plain": [
       "[300, 2, 3]"
      ]
     },
     "execution_count": 66,
     "metadata": {},
     "output_type": "execute_result"
    }
   ],
   "source": [
    "l1"
   ]
  },
  {
   "cell_type": "code",
   "execution_count": 67,
   "id": "b3801908-3b9c-4167-acb4-a2886400b499",
   "metadata": {},
   "outputs": [
    {
     "data": {
      "text/plain": [
       "[300, 2, 3]"
      ]
     },
     "execution_count": 67,
     "metadata": {},
     "output_type": "execute_result"
    }
   ],
   "source": [
    "l2"
   ]
  },
  {
   "cell_type": "code",
   "execution_count": 68,
   "id": "c3be064b-30ba-4205-a399-c8904eca1793",
   "metadata": {},
   "outputs": [],
   "source": [
    "l3=l2.copy()"
   ]
  },
  {
   "cell_type": "code",
   "execution_count": 69,
   "id": "fa332971-150b-464d-94ab-2f9f3386323a",
   "metadata": {},
   "outputs": [
    {
     "data": {
      "text/plain": [
       "[300, 2, 3]"
      ]
     },
     "execution_count": 69,
     "metadata": {},
     "output_type": "execute_result"
    }
   ],
   "source": [
    "l3"
   ]
  },
  {
   "cell_type": "code",
   "execution_count": 70,
   "id": "a0a4f480-a183-470d-963d-9a8d8154006d",
   "metadata": {},
   "outputs": [],
   "source": [
    "l1[1]=50000"
   ]
  },
  {
   "cell_type": "code",
   "execution_count": 71,
   "id": "a7df5a66-0df1-4de2-b1b8-e21b5c419298",
   "metadata": {},
   "outputs": [
    {
     "data": {
      "text/plain": [
       "[300, 50000, 3]"
      ]
     },
     "execution_count": 71,
     "metadata": {},
     "output_type": "execute_result"
    }
   ],
   "source": [
    "l1"
   ]
  },
  {
   "cell_type": "code",
   "execution_count": 72,
   "id": "31621de7-ee31-449d-bae3-5ea49d257d90",
   "metadata": {},
   "outputs": [
    {
     "data": {
      "text/plain": [
       "[300, 50000, 3]"
      ]
     },
     "execution_count": 72,
     "metadata": {},
     "output_type": "execute_result"
    }
   ],
   "source": [
    "l2"
   ]
  },
  {
   "cell_type": "code",
   "execution_count": 73,
   "id": "b1026afe-bf1e-4fe5-af7c-c1c56c83a4b1",
   "metadata": {},
   "outputs": [
    {
     "data": {
      "text/plain": [
       "[300, 2, 3]"
      ]
     },
     "execution_count": 73,
     "metadata": {},
     "output_type": "execute_result"
    }
   ],
   "source": [
    "l3"
   ]
  },
  {
   "cell_type": "code",
   "execution_count": null,
   "id": "b7c0bff4-e261-43a1-a979-c32f8d2eb351",
   "metadata": {},
   "outputs": [],
   "source": []
  }
 ],
 "metadata": {
  "kernelspec": {
   "display_name": "Python 3 (ipykernel)",
   "language": "python",
   "name": "python3"
  },
  "language_info": {
   "codemirror_mode": {
    "name": "ipython",
    "version": 3
   },
   "file_extension": ".py",
   "mimetype": "text/x-python",
   "name": "python",
   "nbconvert_exporter": "python",
   "pygments_lexer": "ipython3",
   "version": "3.10.8"
  }
 },
 "nbformat": 4,
 "nbformat_minor": 5
}
